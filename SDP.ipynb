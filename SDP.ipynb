{
 "cells": [
  {
   "cell_type": "code",
   "execution_count": 5,
   "id": "5f3f64fd-8598-4a8e-bc07-c843c614f2b7",
   "metadata": {},
   "outputs": [
    {
     "name": "stdout",
     "output_type": "stream",
     "text": [
      "\n",
      "Enter the following details to predict RiskLevel:\n"
     ]
    },
    {
     "name": "stdin",
     "output_type": "stream",
     "text": [
      "Age:  25\n",
      "SystolicBP:  85\n",
      "DiastolicBP:  75\n",
      "BS (Blood Sugar):  110\n",
      "BodyTemp:  98\n",
      "HeartRate:  110\n"
     ]
    },
    {
     "name": "stdout",
     "output_type": "stream",
     "text": [
      "Predicted Risk Level: 2\n"
     ]
    }
   ],
   "source": [
    "import pandas as pd\n",
    "from sklearn.model_selection import train_test_split\n",
    "from sklearn.ensemble import RandomForestClassifier\n",
    "from sklearn.metrics import accuracy_score\n",
    "\n",
    "# Step 1: Data Preprocessing\n",
    "def preprocess_data(file_path):\n",
    "    # Load the dataset\n",
    "    data = pd.read_csv(file_path)\n",
    "    \n",
    "    # Handle missing values in the RiskLevel column\n",
    "    data['RiskLevel'] = data['RiskLevel'].fillna(data['RiskLevel'].mode()[0])\n",
    "    \n",
    "    # Standardize RiskLevel values (strip spaces, capitalize)\n",
    "    data['RiskLevel'] = data['RiskLevel'].str.strip().str.capitalize()\n",
    "    \n",
    "    # Map RiskLevel to integers\n",
    "    risk_mapping = {'Low risk': 0, 'Mid risk': 1, 'High risk': 2}\n",
    "    data['RiskLevel'] = data['RiskLevel'].map(risk_mapping)\n",
    "    \n",
    "    # Handle any remaining unmapped or missing values by filling with 'Low'\n",
    "    if data['RiskLevel'].isnull().sum() > 0:\n",
    "        data['RiskLevel'] = data['RiskLevel'].fillna(0)  # Default to 'Low'\n",
    "    \n",
    "    # Separate features (X) and target (y)\n",
    "    X = data[['Age', 'SystolicBP', 'DiastolicBP', 'BS', 'BodyTemp', 'HeartRate']]\n",
    "    y = data['RiskLevel']\n",
    "    \n",
    "    return X, y\n",
    "\n",
    "# Step 2: Machine Learning Model Training and Testing\n",
    "def train_and_test_model(X, y):\n",
    "    # Split the dataset into training and testing sets\n",
    "    X_train, X_test, y_train, y_test = train_test_split(X, y, test_size=0.2, random_state=42)\n",
    "    \n",
    "    # Train the Random Forest model\n",
    "    model = RandomForestClassifier(random_state=42)\n",
    "    model.fit(X_train, y_train)\n",
    "    \n",
    "    # Evaluate the model (but don't print accuracy)\n",
    "    y_pred = model.predict(X_test)\n",
    "    accuracy = accuracy_score(y_test, y_pred)  # Accuracy is calculated but not printed\n",
    "    \n",
    "    return model\n",
    "\n",
    "# Step 3: Model Prediction\n",
    "def predict_risk(model):\n",
    "    print(\"\\nEnter the following details to predict RiskLevel:\")\n",
    "    age = int(input(\"Age: \"))\n",
    "    systolic_bp = int(input(\"SystolicBP: \"))\n",
    "    diastolic_bp = int(input(\"DiastolicBP: \"))\n",
    "    bs = float(input(\"BS (Blood Sugar): \"))\n",
    "    body_temp = float(input(\"BodyTemp: \"))\n",
    "    heart_rate = int(input(\"HeartRate: \"))\n",
    "\n",
    "    # Create a dataframe for user input\n",
    "    user_input = pd.DataFrame([[age, systolic_bp, diastolic_bp, bs, body_temp, heart_rate]],\n",
    "                              columns=['Age', 'SystolicBP', 'DiastolicBP', 'BS', 'BodyTemp', 'HeartRate'])\n",
    "    \n",
    "    # Predict risk level (it will return 0, 1, or 2)\n",
    "    risk_level_num = model.predict(user_input)[0]\n",
    "    \n",
    "    # Print the predicted risk level (0, 1, or 2)\n",
    "    print(f\"Predicted Risk Level: {risk_level_num}\")\n",
    "\n",
    "# Main Function\n",
    "if __name__ == \"__main__\":\n",
    "    # File path to your dataset\n",
    "    file_path = r\"C:\\Users\\Asus\\Desktop\\SDP\\Maternal Health Risk Data Set.csv\"  # Update with your actual file path\n",
    "    \n",
    "    # Preprocess the data\n",
    "    X, y = preprocess_data(file_path)\n",
    "    \n",
    "    # Train and test the model\n",
    "    trained_model = train_and_test_model(X, y)\n",
    "    \n",
    "    # Predict risk based on user input\n",
    "    predict_risk(trained_model)"
   ]
  },
  {
   "cell_type": "code",
   "execution_count": null,
   "id": "f7af53fc-ea87-4f37-9abe-a84bd907aaaf",
   "metadata": {},
   "outputs": [],
   "source": []
  }
 ],
 "metadata": {
  "kernelspec": {
   "display_name": "Python 3 (ipykernel)",
   "language": "python",
   "name": "python3"
  },
  "language_info": {
   "codemirror_mode": {
    "name": "ipython",
    "version": 3
   },
   "file_extension": ".py",
   "mimetype": "text/x-python",
   "name": "python",
   "nbconvert_exporter": "python",
   "pygments_lexer": "ipython3",
   "version": "3.12.7"
  }
 },
 "nbformat": 4,
 "nbformat_minor": 5
}
